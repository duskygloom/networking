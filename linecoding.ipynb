{
 "cells": [
  {
   "cell_type": "code",
   "execution_count": 22,
   "metadata": {},
   "outputs": [],
   "source": [
    "import matplotlib.pyplot as plot\n",
    "from math import cos, pi\n",
    "from numpy import arange\n",
    "\n",
    "nsamples = 10\n",
    "\n",
    "stream  = \"1010\"\n",
    "\n",
    "nsignals    = len(stream)\n",
    "xstep       = 1\n",
    "title       = f\"Differential Manchester ({stream})\""
   ]
  },
  {
   "cell_type": "code",
   "execution_count": 25,
   "metadata": {},
   "outputs": [
    {
     "data": {
      "text/plain": [
       "[<matplotlib.lines.Line2D at 0x1949566dc10>]"
      ]
     },
     "execution_count": 25,
     "metadata": {},
     "output_type": "execute_result"
    },
    {
     "data": {
      "image/png": "[encoded data removed]",
      "text/plain": [
       "<Figure size 400x300 with 1 Axes>"
      ]
     },
     "metadata": {},
     "output_type": "display_data"
    }
   ],
   "source": [
    "fig, axis = plot.subplots()\n",
    "\n",
    "fig.set_figwidth(nsignals/xstep)\n",
    "fig.set_figheight(3)\n",
    "axis.set_title(title)\n",
    "axis.set_ylabel(\"Signal\")\n",
    "axis.set_yticks((-2, -1, 0, 1, 2))\n",
    "axis.set_ylim(-2.5, 2.5)\n",
    "axis.set_xlabel(\"Time\")\n",
    "xticks = arange(0, nsignals+xstep, xstep)\n",
    "axis.set_xticks(xticks)\n",
    "axis.set_xlim(-xstep, nsignals+xstep)\n",
    "axis.set_xticklabels([round(i, 4) for i in xticks])\n",
    "axis.plot([0, nsignals], [0, 0], linestyle=\"dashed\", color=\"gray\")\n",
    "\n",
    "x = []\n",
    "y = []\n",
    "\n",
    "base = 0\n",
    "\n",
    "# NRZ-L\n",
    "# for bit in stream:\n",
    "#     for sample in range(nsamples):\n",
    "#         t = base + sample/nsamples\n",
    "#         x.append(t)\n",
    "#         y.append(2*int(bit)-1)\n",
    "#     base += 1\n",
    "\n",
    "# NRZ-I\n",
    "signal = 1\n",
    "for bit in stream:\n",
    "    if bit == \"1\":\n",
    "        signal = -signal\n",
    "    for sample in range(nsamples):\n",
    "        t = base + sample/nsamples\n",
    "        x.append(t)\n",
    "        y.append(signal)\n",
    "    base += 1\n",
    "\n",
    "# NZ\n",
    "# for bit in stream:\n",
    "#     for sample in range(nsamples):\n",
    "#         t = base + sample/nsamples\n",
    "#         x.append(t)\n",
    "#         y.append(2*int(bit)-1)\n",
    "#     base += 1\n",
    "#     for sample in range(nsamples):\n",
    "#         t = base + sample/nsamples\n",
    "#         x.append(t)\n",
    "#         y.append(0)\n",
    "#     base += 1\n",
    "\n",
    "# Manchester\n",
    "# for bit in stream:\n",
    "#     for sample in range(0, nsamples//2):\n",
    "#         t = base + sample/nsamples\n",
    "#         x.append(t)\n",
    "#         y.append(2*int(bit)-1)\n",
    "#     for sample in range(nsamples//2, nsamples):\n",
    "#         t = base + sample/nsamples\n",
    "#         x.append(t)\n",
    "#         y.append(-(2*int(bit)-1))\n",
    "#     base += 1\n",
    "\n",
    "# Differential Manchester\n",
    "# signal = -1\n",
    "# for bit in stream:\n",
    "#     if bit == \"1\":\n",
    "#         signal = -signal\n",
    "#     for sample in range(0, nsamples//2):\n",
    "#         t = base + sample/nsamples\n",
    "#         x.append(t)\n",
    "#         y.append(signal)\n",
    "#     signal = -signal\n",
    "#     for sample in range(nsamples//2, nsamples):\n",
    "#         t = base + sample/nsamples\n",
    "#         x.append(t)\n",
    "#         y.append(signal)\n",
    "#     base += 1\n",
    "\n",
    "axis.plot(x, y)"
   ]
  }
 ],
 "metadata": {
  "kernelspec": {
   "display_name": "networking",
   "language": "python",
   "name": "python3"
  },
  "language_info": {
   "codemirror_mode": {
    "name": "ipython",
    "version": 3
   },
   "file_extension": ".py",
   "mimetype": "text/x-python",
   "name": "python",
   "nbconvert_exporter": "python",
   "pygments_lexer": "ipython3",
   "version": "3.11.5"
  }
 },
 "nbformat": 4,
 "nbformat_minor": 2
}
